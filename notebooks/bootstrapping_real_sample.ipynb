{
 "cells": [
  {
   "cell_type": "markdown",
   "metadata": {},
   "source": [
    "# Bootstrapping real sample for calculating metrics for evaluation\n",
    "\n",
    "This notebook includes the code used to generate the `metrics_bootstrap_real.pkl`, which contains the averaged metrics for the real dataset."
   ]
  },
  {
   "cell_type": "code",
   "execution_count": 1,
   "metadata": {},
   "outputs": [],
   "source": [
    "import sys\n",
    "\n",
    "sys.path.append(\"..\")"
   ]
  },
  {
   "cell_type": "code",
   "execution_count": 2,
   "metadata": {},
   "outputs": [],
   "source": [
    "from pathlib import Path\n",
    "from glob import iglob\n",
    "from instasynth import evaluation, embedding_generation\n",
    "import pandas as pd\n",
    "\n",
    "test_spons_data = pd.read_pickle(\"../data/kim_sample_mini.pkl\")\n",
    "ann_data = pd.read_pickle(\"../data/ann_sample_ad_detection.pkl\")\n",
    "emb_storage = embedding_generation.EmbeddingStorage(\n",
    "    Path(\"../embeddings/\"), embedding_file_name=\"embeddings.pkl\"\n",
    ")\n",
    "full_df = (\n",
    "    pd.read_pickle(\"../data/full_df_posts.pkl\")\n",
    "    .dropna()\n",
    "    .query(\"caption ! = '' & country == 'US'\")\n",
    ")\n",
    "full_df[\"sponsorship\"] = full_df.has_disclosures.apply(\n",
    "    lambda x: \"sponsored\" if x else \"nonsponsored\"\n",
    ")\n",
    "\n",
    "def sample_real(seed: int):\n",
    "    spons = full_df.query(\"sponsorship == 'sponsored'\").sample(500, random_state=seed)\n",
    "    nonspons = full_df.query(\"sponsorship == 'nonsponsored'\").sample(\n",
    "        500, random_state=seed\n",
    "    )\n",
    "    return pd.concat([spons, nonspons]).sample(frac=1)"
   ]
  },
  {
   "cell_type": "markdown",
   "metadata": {},
   "source": [
    "Running 100 bootstrap samples..."
   ]
  },
  {
   "cell_type": "code",
   "execution_count": null,
   "metadata": {},
   "outputs": [],
   "source": [
    "anls = []\n",
    "\n",
    "for i in range(100):\n",
    "    real_data = sample_real(i)\n",
    "    anls.append(\n",
    "        evaluation.SingleExperimentAnalyser(real_data).analyse_experiment(\n",
    "            real_dataset=real_data,\n",
    "            test_dataset_ads=test_spons_data,\n",
    "            test_dataset_ads_undisclosed=ann_data,\n",
    "            embedding_storage=emb_storage,\n",
    "            analyse_embeddings=True,\n",
    "            analyse_internal_similarity=True,\n",
    "            analyse_top_k_recall=False,\n",
    "        )\n",
    "    )"
   ]
  },
  {
   "cell_type": "markdown",
   "metadata": {},
   "source": [
    "Creating the `metrics_bootstrap_real.pkl` dataframe"
   ]
  },
  {
   "cell_type": "code",
   "execution_count": 5,
   "metadata": {},
   "outputs": [],
   "source": [
    "import numpy as np\n",
    "\n",
    "anls_mean = {k: np.mean([x[k] for x in anls]) for k in anls[0].keys()}\n",
    "\n",
    "pd.DataFrame(anls_mean, index=[\"Real\"]).to_pickle(\"../data/metrics_bootstrap_real.pkl\")"
   ]
  },
  {
   "cell_type": "markdown",
   "metadata": {},
   "source": [
    "### Testing statistical significance of the averaged metrics "
   ]
  },
  {
   "cell_type": "code",
   "execution_count": 7,
   "metadata": {},
   "outputs": [],
   "source": [
    "import numpy as np\n",
    "\n",
    "def bootstrap_mean_confidence_interval(single_metric_samples):\n",
    "    sample_mean = np.mean(single_metric_samples)\n",
    "    SE = np.std(single_metric_samples, ddof=1) / np.sqrt(len(single_metric_samples))\n",
    "    z_value = 1.96  # For a 95% confidence level\n",
    "    CI_lower = sample_mean - z_value * SE\n",
    "    CI_upper = sample_mean + z_value * SE\n",
    "\n",
    "    return CI_lower, CI_upper\n",
    "\n",
    "\n",
    "def is_within_CI(single_metric_samples):\n",
    "    metric_mean = np.mean(single_metric_samples)\n",
    "    CI_lower, CI_upper = bootstrap_mean_confidence_interval(single_metric_samples)\n",
    "    return (metric_mean >= CI_lower) and (metric_mean <= CI_upper)\n",
    "\n",
    "metric_within_ci = {m: is_within_CI(np.array([k[m] for k in anls])) for m in anls[0].keys()}\n",
    "\n"
   ]
  },
  {
   "cell_type": "code",
   "execution_count": 8,
   "metadata": {},
   "outputs": [
    {
     "data": {
      "text/plain": [
       "{'pct_unique_captions': True,\n",
       " 'avg_caption_length': True,\n",
       " 'std_caption_length': True,\n",
       " 'vocabulary_size': True,\n",
       " 'avg_emojis_per_post': True,\n",
       " 'std_emojis_per_post': True,\n",
       " 'n_unique_emojis': True,\n",
       " 'avg_hashtags_per_post': True,\n",
       " 'std_hashtags_per_post': True,\n",
       " 'total_hashtags': True,\n",
       " 'n_unique_hashtags': True,\n",
       " 'avg_user_tags_per_post': True,\n",
       " 'std_user_tags_per_post': True,\n",
       " 'total_user_tags': True,\n",
       " 'n_unique_user_tags': True,\n",
       " 'avg_fk_grade_level': True,\n",
       " 'std_fk_grade_level': True,\n",
       " 'avg_dalle_readability': True,\n",
       " 'std_dalle_readability': True,\n",
       " 'avg_1gram_per_post': True,\n",
       " 'n_unique_1gram': True,\n",
       " 'avg_2gram_per_post': True,\n",
       " 'n_unique_2gram': True,\n",
       " 'avg_3gram_per_post': True,\n",
       " 'n_unique_3gram': True,\n",
       " 'pct_first_person_pronouns': True,\n",
       " 'pct_second_person_pronouns': True,\n",
       " 'pct_third_person_pronouns': True,\n",
       " 'jaccard_similarity_1gram': True,\n",
       " 'jaccard_similarity_2gram': True,\n",
       " 'jaccard_similarity_3gram': True,\n",
       " 'hashtag_overlap': True,\n",
       " 'user_tag_overlap': True,\n",
       " 'ad_detection_accuracy': True,\n",
       " 'ad_detection_precision': True,\n",
       " 'ad_detection_recall': True,\n",
       " 'ad_detection_f1': True,\n",
       " 'ad_detection_undisclosed_accuracy': True,\n",
       " 'NW_hashtag_number_of_nodes': True,\n",
       " 'NW_hashtag_number_of_edges': True,\n",
       " 'NW_hashtag_density': True,\n",
       " 'NW_hashtag_avg_clustering_coefficient': True,\n",
       " 'NW_hashtag_avg_degree': True,\n",
       " 'NW_hashtag_avg_betweenness_centrality': True,\n",
       " 'NW_hashtag_avg_closeness_centrality': True,\n",
       " 'NW_hashtag_avg_eigenvector_centrality': True,\n",
       " 'NW_hashtag_assortativity': True,\n",
       " 'NW_hashtag_transitivity': True,\n",
       " 'NW_usertag_number_of_nodes': True,\n",
       " 'NW_usertag_number_of_edges': True,\n",
       " 'NW_usertag_density': True,\n",
       " 'NW_usertag_avg_clustering_coefficient': True,\n",
       " 'NW_usertag_avg_degree': True,\n",
       " 'NW_usertag_avg_betweenness_centrality': True,\n",
       " 'NW_usertag_avg_closeness_centrality': True,\n",
       " 'NW_usertag_avg_eigenvector_centrality': True,\n",
       " 'NW_usertag_assortativity': True,\n",
       " 'NW_usertag_transitivity': True,\n",
       " 'NW_hashtag_usertag_number_of_nodes': True,\n",
       " 'NW_hashtag_usertag_number_of_edges': True,\n",
       " 'NW_hashtag_usertag_density': True,\n",
       " 'NW_hashtag_usertag_avg_clustering_coefficient': True,\n",
       " 'NW_hashtag_usertag_avg_degree': True,\n",
       " 'NW_hashtag_usertag_avg_betweenness_centrality': True,\n",
       " 'NW_hashtag_usertag_avg_closeness_centrality': True,\n",
       " 'NW_hashtag_usertag_avg_eigenvector_centrality': True,\n",
       " 'NW_hashtag_usertag_assortativity': True,\n",
       " 'NW_hashtag_usertag_transitivity': True,\n",
       " 'avg_cosine_sim': True,\n",
       " 'median_cosine_sim': True,\n",
       " 'std_cosine_sim': True,\n",
       " 'q1_cosine_sim': True,\n",
       " 'q3_cosine_sim': True,\n",
       " 'min_cosine_sim': True,\n",
       " 'max_cosine_sim': True,\n",
       " 'real_internal_cosine_sim': True,\n",
       " 'synthetic_internal_cosine_sim': True}"
      ]
     },
     "execution_count": 8,
     "metadata": {},
     "output_type": "execute_result"
    }
   ],
   "source": [
    "metric_within_ci"
   ]
  }
 ],
 "metadata": {
  "kernelspec": {
   "display_name": ".venv",
   "language": "python",
   "name": "python3"
  },
  "language_info": {
   "codemirror_mode": {
    "name": "ipython",
    "version": 3
   },
   "file_extension": ".py",
   "mimetype": "text/x-python",
   "name": "python",
   "nbconvert_exporter": "python",
   "pygments_lexer": "ipython3",
   "version": "3.9.0"
  },
  "orig_nbformat": 4
 },
 "nbformat": 4,
 "nbformat_minor": 2
}
