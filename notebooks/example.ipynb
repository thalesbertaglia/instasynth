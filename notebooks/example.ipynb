{
 "cells": [
  {
   "cell_type": "code",
   "execution_count": 1,
   "metadata": {},
   "outputs": [],
   "source": [
    "#Install OpenAI\n",
    "# !pip install openai"
   ]
  },
  {
   "cell_type": "code",
   "execution_count": 2,
   "metadata": {},
   "outputs": [],
   "source": [
    "import src \n",
    "import pandas as pd\n",
    "import os"
   ]
  },
  {
   "cell_type": "code",
   "execution_count": 3,
   "metadata": {},
   "outputs": [],
   "source": [
    "# from importlib import reload\n",
    "# reload(src)"
   ]
  },
  {
   "cell_type": "code",
   "execution_count": 4,
   "metadata": {},
   "outputs": [],
   "source": [
    "DATA_PATH = \"data\"\n",
    "SAMPLE_DATASET_SIZE = 1000\n",
    "ORIGINAL_PICKLE_FILENAME = \"ct_df_posts_single_preds.pkl\"\n",
    "\n",
    "\n",
    "def get_sampled_dataset(\n",
    "    original_pickle_filename,\n",
    "    sample_size,\n",
    "    random_state=42,\n",
    "    keep_columns=[\"caption\", \"is_ad\"],\n",
    "):\n",
    "    dataset_filename = f\"{DATA_PATH}/sample_{sample_size}_{random_state}.csv\"\n",
    "    if os.path.exists(dataset_filename):\n",
    "        print(\"loading sample dataset...\")\n",
    "        sample_dataset = pd.read_csv(dataset_filename)\n",
    "    else:\n",
    "        print(\"creating sample dataset...\")\n",
    "        full_df_filename = f\"{DATA_PATH}/{original_pickle_filename}\"\n",
    "        full_df = pd.read_pickle(full_df_filename)\n",
    "\n",
    "        sponsored = full_df[full_df[\"is_ad\"]].sample(\n",
    "            sample_size, random_state=random_state\n",
    "        )\n",
    "        unsponsored = full_df[~full_df[\"is_ad\"]].sample(\n",
    "            sample_size, random_state=random_state\n",
    "        )\n",
    "        sample_dataset = pd.concat([sponsored, unsponsored])[keep_columns]\n",
    "        sample_dataset.to_csv(dataset_filename, index=False)\n",
    "    return sample_dataset\n",
    "\n",
    "\n",
    "def format_examples(examples: list) -> str:\n",
    "    return \"\".join(\n",
    "        [\n",
    "            f\"{index + 1}. <POST> {example}</POST>\\n\"\n",
    "            for index, example in enumerate(examples)\n",
    "        ]\n",
    "    )\n",
    "\n",
    "\n",
    "def get_caption_examples(number_examples, is_ad):\n",
    "    sample_dataset = get_sampled_dataset(\n",
    "        original_pickle_filename=ORIGINAL_PICKLE_FILENAME,\n",
    "        sample_size=int(SAMPLE_DATASET_SIZE / 2),\n",
    "    )\n",
    "    examples = (\n",
    "        sample_dataset[sample_dataset[\"is_ad\"]][\"caption\"]\n",
    "        .sample(number_examples)\n",
    "        .tolist()\n",
    "    )\n",
    "    examples = [example.replace(\"\\n\", \"\") for example in examples]\n",
    "    return format_examples(examples)"
   ]
  },
  {
   "cell_type": "markdown",
   "metadata": {},
   "source": [
    "# Example 1"
   ]
  },
  {
   "cell_type": "markdown",
   "metadata": {},
   "source": [
    "## create experiment"
   ]
  },
  {
   "cell_type": "code",
   "execution_count": 9,
   "metadata": {},
   "outputs": [
    {
     "name": "stdout",
     "output_type": "stream",
     "text": [
      "Running experiment haiku_experiement with prompt write_me_a and parameters {'text_type': 'haiku', 'max_length': 4}\n",
      "\t > Sending messages to OpenAI API...\n",
      "\t > Received response from OpenAI API\n",
      "\t > processing response...\n",
      "\t > Storing results...\n",
      "Experiment complete!\n"
     ]
    },
    {
     "data": {
      "text/html": [
       "<div>\n",
       "<style scoped>\n",
       "    .dataframe tbody tr th:only-of-type {\n",
       "        vertical-align: middle;\n",
       "    }\n",
       "\n",
       "    .dataframe tbody tr th {\n",
       "        vertical-align: top;\n",
       "    }\n",
       "\n",
       "    .dataframe thead th {\n",
       "        text-align: right;\n",
       "    }\n",
       "</style>\n",
       "<table border=\"1\" class=\"dataframe\">\n",
       "  <thead>\n",
       "    <tr style=\"text-align: right;\">\n",
       "      <th></th>\n",
       "      <th>0</th>\n",
       "    </tr>\n",
       "  </thead>\n",
       "  <tbody>\n",
       "    <tr>\n",
       "      <th>0</th>\n",
       "      <td>Moon shines, night is calm</td>\n",
       "    </tr>\n",
       "    <tr>\n",
       "      <th>1</th>\n",
       "      <td>Whispers float, love's sweet balm</td>\n",
       "    </tr>\n",
       "    <tr>\n",
       "      <th>2</th>\n",
       "      <td>Hearts entwined, soul's psalm</td>\n",
       "    </tr>\n",
       "  </tbody>\n",
       "</table>\n",
       "</div>"
      ],
      "text/plain": [
       "                                   0\n",
       "0         Moon shines, night is calm\n",
       "1  Whispers float, love's sweet balm\n",
       "2      Hearts entwined, soul's psalm"
      ]
     },
     "metadata": {},
     "output_type": "display_data"
    },
    {
     "data": {
      "text/plain": [
       "{'experiment_identifier': 'haiku_experiement',\n",
       " 'prompt_name': 'write_me_a',\n",
       " 'df_results': 'results/haiku_experiement/df_haiku_experiement.csv',\n",
       " 'parameters': {'text_type': 'haiku', 'max_length': 4}}"
      ]
     },
     "metadata": {},
     "output_type": "display_data"
    }
   ],
   "source": [
    "experiment_identifier = \"haiku_experiement\"\n",
    "prompt_name = \"write_me_a\"\n",
    "parameters = {\"text_type\": \"haiku\", \"max_length\": 4}\n",
    "\n",
    "experiment_results, setup_experiment = src.create_experiment(\n",
    "    experiment_identifier, prompt_name, parameters\n",
    ")\n",
    "display(experiment_results)\n",
    "display(setup_experiment)"
   ]
  },
  {
   "cell_type": "markdown",
   "metadata": {},
   "source": [
    "## read experiment"
   ]
  },
  {
   "cell_type": "code",
   "execution_count": 10,
   "metadata": {},
   "outputs": [
    {
     "data": {
      "text/html": [
       "<div>\n",
       "<style scoped>\n",
       "    .dataframe tbody tr th:only-of-type {\n",
       "        vertical-align: middle;\n",
       "    }\n",
       "\n",
       "    .dataframe tbody tr th {\n",
       "        vertical-align: top;\n",
       "    }\n",
       "\n",
       "    .dataframe thead th {\n",
       "        text-align: right;\n",
       "    }\n",
       "</style>\n",
       "<table border=\"1\" class=\"dataframe\">\n",
       "  <thead>\n",
       "    <tr style=\"text-align: right;\">\n",
       "      <th></th>\n",
       "      <th>0</th>\n",
       "    </tr>\n",
       "  </thead>\n",
       "  <tbody>\n",
       "    <tr>\n",
       "      <th>0</th>\n",
       "      <td>Moon shines, night is calm</td>\n",
       "    </tr>\n",
       "    <tr>\n",
       "      <th>1</th>\n",
       "      <td>Whispers float, love's sweet balm</td>\n",
       "    </tr>\n",
       "    <tr>\n",
       "      <th>2</th>\n",
       "      <td>Hearts entwined, soul's psalm</td>\n",
       "    </tr>\n",
       "  </tbody>\n",
       "</table>\n",
       "</div>"
      ],
      "text/plain": [
       "                                   0\n",
       "0         Moon shines, night is calm\n",
       "1  Whispers float, love's sweet balm\n",
       "2      Hearts entwined, soul's psalm"
      ]
     },
     "metadata": {},
     "output_type": "display_data"
    },
    {
     "data": {
      "text/plain": [
       "{'experiment_identifier': 'haiku_experiement',\n",
       " 'prompt_name': 'write_me_a',\n",
       " 'df_results': 'results/haiku_experiement/df_haiku_experiement.csv',\n",
       " 'parameters': {'text_type': 'haiku', 'max_length': 4}}"
      ]
     },
     "metadata": {},
     "output_type": "display_data"
    }
   ],
   "source": [
    "experiment_identifier = \"haiku_experiement\"\n",
    "\n",
    "experiment_results, setup_experiment = src.load_results(experiment_identifier)\n",
    "display(experiment_results)\n",
    "display(setup_experiment)"
   ]
  },
  {
   "cell_type": "markdown",
   "metadata": {},
   "source": [
    "# example 2"
   ]
  },
  {
   "cell_type": "markdown",
   "metadata": {},
   "source": [
    "### creating experiment"
   ]
  },
  {
   "cell_type": "code",
   "execution_count": null,
   "metadata": {},
   "outputs": [],
   "source": [
    "# required values to run experiment\n",
    "experiment_identifier = \"unsponsored_random_examples_exp_1\"\n",
    "prompt_name = \"unsponsored_random_examples\"\n",
    "\n",
    "\n",
    "# parameters to be passed to the prompt\n",
    "number_of_examples_used = 3\n",
    "number_of_captions_desiered = 5\n",
    "examples = get_caption_examples(number_examples=number_of_examples_used, is_ad=False)\n",
    "\n",
    "# set parameters variable\n",
    "parameters = {\n",
    "    \"number_of_captions_given\": number_of_examples_used,\n",
    "    \"number_of_captions_desiered\": number_of_captions_desiered,\n",
    "    \"examples\": examples,\n",
    "}\n",
    "\n",
    "# run experiment\n",
    "print(\"Reading prompt template...\")\n",
    "prompt_json = src.read_prompt_json(prompt_name)\n",
    "\n",
    "print(\"Calling OpenAI API...\")\n",
    "prompt_messages = src.create_openai_messages(prompt_json[\"messages\"], parameters)\n",
    "_, response_content, _ = src.get_completion_from_messages(prompt_messages)\n",
    "\n",
    "print(\"Processing response...\")\n",
    "experiment_results = src.process_response_content(response_content)\n",
    "\n",
    "setup_experiment = src.create_setup_dict(experiment_identifier, prompt_name, parameters)\n",
    "\n",
    "print(\"Storing results...\")\n",
    "src.save_results(experiment_identifier, experiment_results, setup_experiment)\n",
    "\n",
    "print(\"Experiment complete!\")"
   ]
  },
  {
   "cell_type": "markdown",
   "metadata": {},
   "source": [
    "### reading experiment results"
   ]
  },
  {
   "cell_type": "code",
   "execution_count": 6,
   "metadata": {},
   "outputs": [
    {
     "data": {
      "text/html": [
       "<div>\n",
       "<style scoped>\n",
       "    .dataframe tbody tr th:only-of-type {\n",
       "        vertical-align: middle;\n",
       "    }\n",
       "\n",
       "    .dataframe tbody tr th {\n",
       "        vertical-align: top;\n",
       "    }\n",
       "\n",
       "    .dataframe thead th {\n",
       "        text-align: right;\n",
       "    }\n",
       "</style>\n",
       "<table border=\"1\" class=\"dataframe\">\n",
       "  <thead>\n",
       "    <tr style=\"text-align: right;\">\n",
       "      <th></th>\n",
       "      <th>0</th>\n",
       "    </tr>\n",
       "  </thead>\n",
       "  <tbody>\n",
       "    <tr>\n",
       "      <th>0</th>\n",
       "      <td>1. &lt;POST&gt; Capturing the beauty of nature on th...</td>\n",
       "    </tr>\n",
       "    <tr>\n",
       "      <th>1</th>\n",
       "      <td>2. &lt;POST&gt; Celebrating the little things in lif...</td>\n",
       "    </tr>\n",
       "    <tr>\n",
       "      <th>2</th>\n",
       "      <td>3. &lt;POST&gt; Embracing my inner foodie at this hi...</td>\n",
       "    </tr>\n",
       "    <tr>\n",
       "      <th>3</th>\n",
       "      <td>4. &lt;POST&gt; Getting my creative juices flowing w...</td>\n",
       "    </tr>\n",
       "    <tr>\n",
       "      <th>4</th>\n",
       "      <td>5. &lt;POST&gt; Reflecting on the power of self-care...</td>\n",
       "    </tr>\n",
       "  </tbody>\n",
       "</table>\n",
       "</div>"
      ],
      "text/plain": [
       "                                                   0\n",
       "0  1. <POST> Capturing the beauty of nature on th...\n",
       "1  2. <POST> Celebrating the little things in lif...\n",
       "2  3. <POST> Embracing my inner foodie at this hi...\n",
       "3  4. <POST> Getting my creative juices flowing w...\n",
       "4  5. <POST> Reflecting on the power of self-care..."
      ]
     },
     "metadata": {},
     "output_type": "display_data"
    },
    {
     "data": {
      "text/plain": [
       "{'experiment_identifier': 'unsponsored_random_examples_exp_1',\n",
       " 'prompt_name': 'unsponsored_random_examples',\n",
       " 'experiment_results_filename': 'results/unsponsored_random_examples_exp_1/df_unsponsored_random_examples_exp_1.csv',\n",
       " 'parameters': {'number_of_captions_given': 3,\n",
       "  'number_of_captions_desiered': 5,\n",
       "  'examples': '1. <POST> #ad @listerine Ready! Tabs helps you keep all your favorite things close to you during the holidays. Just chew, swish & swallow and you’re ready to go for anything during the holiday season. #ReadySwishGo</POST>\\n2. <POST> Dia de sol, piscina e praia 🐬 Me transformei numa sereia real com esse biquíni 🧜🏻\\u200d♀️👙 @aguadocepraia ! Apaixonadaaaaa nesse modelo e na estampa!! Gostaram seus lindos? 🌈 #SereiasAguaDoce</POST>\\n3. <POST> When you can’t smell shit and your husband is so excited about his new toy 😂 Luke kan echt niet ophouden over zijn fles van @airup… Door de geurpod, lijkt het alsof je limonade drinkt terwijl het gewoon puur water is. Aangezien ik er zelf niet van kan genieten i.v.m. reuk, deel ik het graag met jullie! Met de code JIPP krijg je 15% korting op je starterset #partner (Code is 5 dagen geldig)</POST>\\n'}}"
      ]
     },
     "metadata": {},
     "output_type": "display_data"
    },
    {
     "data": {
      "text/plain": [
       "['1. <POST> #ad @listerine Ready! Tabs helps you keep all your favorite things close to you during the holidays. Just chew, swish & swallow and you’re ready to go for anything during the holiday season. #ReadySwishGo</POST>',\n",
       " '2. <POST> Dia de sol, piscina e praia 🐬 Me transformei numa sereia real com esse biquíni 🧜🏻\\u200d♀️👙 @aguadocepraia ! Apaixonadaaaaa nesse modelo e na estampa!! Gostaram seus lindos? 🌈 #SereiasAguaDoce</POST>',\n",
       " '3. <POST> When you can’t smell shit and your husband is so excited about his new toy 😂 Luke kan echt niet ophouden over zijn fles van @airup… Door de geurpod, lijkt het alsof je limonade drinkt terwijl het gewoon puur water is. Aangezien ik er zelf niet van kan genieten i.v.m. reuk, deel ik het graag met jullie! Met de code JIPP krijg je 15% korting op je starterset #partner (Code is 5 dagen geldig)</POST>',\n",
       " '']"
      ]
     },
     "metadata": {},
     "output_type": "display_data"
    }
   ],
   "source": [
    "experiment_identifier = \"unsponsored_random_examples_exp_1\"\n",
    "\n",
    "experiment_results, setup_experiment = src.load_results(experiment_identifier)\n",
    "display(experiment_results)\n",
    "display(setup_experiment)\n",
    "display(setup_experiment[\"parameters\"][\"examples\"].split(\"\\n\"))"
   ]
  },
  {
   "cell_type": "markdown",
   "metadata": {},
   "source": [
    "# Example 3"
   ]
  },
  {
   "cell_type": "markdown",
   "metadata": {},
   "source": [
    "### creating experiment"
   ]
  },
  {
   "cell_type": "code",
   "execution_count": 7,
   "metadata": {},
   "outputs": [
    {
     "name": "stdout",
     "output_type": "stream",
     "text": [
      "loading sample dataset...\n",
      "Reading prompt template...\n",
      "Calling OpenAI API...\n",
      "Processing response...\n",
      "Storing results...\n",
      "Experiment complete!\n"
     ]
    }
   ],
   "source": [
    "# requiered values to run experiment\n",
    "experiment_identifier = \"sponsored_random_examples_exp_1\"\n",
    "prompt_name = \"sponsored_random_examples\"\n",
    "\n",
    "\n",
    "# parameters to be passed to the prompt\n",
    "number_of_examples_used = 3\n",
    "number_of_captions_desiered = 5\n",
    "examples = get_caption_examples(number_examples=number_of_examples_used, is_ad=True)\n",
    "\n",
    "# set parameters variable\n",
    "parameters = {\n",
    "    \"number_of_captions_given\": number_of_examples_used,\n",
    "    \"number_of_captions_desiered\": number_of_captions_desiered,\n",
    "    \"examples\": examples,\n",
    "}\n",
    "\n",
    "# run experiment\n",
    "print(\"Reading prompt template...\")\n",
    "prompt_json = src.read_prompt_json(prompt_name)\n",
    "\n",
    "print(\"Calling OpenAI API...\")\n",
    "prompt_messages = src.create_openai_messages(prompt_json[\"messages\"], parameters)\n",
    "_, response_content, _ = src.get_completion_from_messages(prompt_messages)\n",
    "\n",
    "print(\"Processing response...\")\n",
    "experiment_results = src.process_response_content(response_content)\n",
    "\n",
    "setup_experiment = src.create_setup_dict(experiment_identifier, prompt_name, parameters)\n",
    "\n",
    "print(\"Storing results...\")\n",
    "src.save_results(experiment_identifier, experiment_results, setup_experiment)\n",
    "\n",
    "print(\"Experiment complete!\")"
   ]
  },
  {
   "cell_type": "markdown",
   "metadata": {},
   "source": [
    "### reading experiment results"
   ]
  },
  {
   "cell_type": "code",
   "execution_count": 8,
   "metadata": {},
   "outputs": [
    {
     "data": {
      "text/html": [
       "<div>\n",
       "<style scoped>\n",
       "    .dataframe tbody tr th:only-of-type {\n",
       "        vertical-align: middle;\n",
       "    }\n",
       "\n",
       "    .dataframe tbody tr th {\n",
       "        vertical-align: top;\n",
       "    }\n",
       "\n",
       "    .dataframe thead th {\n",
       "        text-align: right;\n",
       "    }\n",
       "</style>\n",
       "<table border=\"1\" class=\"dataframe\">\n",
       "  <thead>\n",
       "    <tr style=\"text-align: right;\">\n",
       "      <th></th>\n",
       "      <th>0</th>\n",
       "    </tr>\n",
       "  </thead>\n",
       "  <tbody>\n",
       "    <tr>\n",
       "      <th>0</th>\n",
       "      <td>1. &lt;POST&gt; Sippin' on my favorite @fitfuelbev p...</td>\n",
       "    </tr>\n",
       "    <tr>\n",
       "      <th>1</th>\n",
       "      <td>2. &lt;POST&gt; Can't get enough of the stunning vie...</td>\n",
       "    </tr>\n",
       "    <tr>\n",
       "      <th>2</th>\n",
       "      <td>3. &lt;POST&gt; Sunday self-care with @blissfulbeaut...</td>\n",
       "    </tr>\n",
       "    <tr>\n",
       "      <th>3</th>\n",
       "      <td>4. &lt;POST&gt; Obsessed with the new collection fro...</td>\n",
       "    </tr>\n",
       "    <tr>\n",
       "      <th>4</th>\n",
       "      <td>5. &lt;POST&gt; Indulging in a little self-love with...</td>\n",
       "    </tr>\n",
       "  </tbody>\n",
       "</table>\n",
       "</div>"
      ],
      "text/plain": [
       "                                                   0\n",
       "0  1. <POST> Sippin' on my favorite @fitfuelbev p...\n",
       "1  2. <POST> Can't get enough of the stunning vie...\n",
       "2  3. <POST> Sunday self-care with @blissfulbeaut...\n",
       "3  4. <POST> Obsessed with the new collection fro...\n",
       "4  5. <POST> Indulging in a little self-love with..."
      ]
     },
     "metadata": {},
     "output_type": "display_data"
    },
    {
     "data": {
      "text/plain": [
       "{'experiment_identifier': 'sponsored_random_examples_exp_1',\n",
       " 'prompt_name': 'sponsored_random_examples',\n",
       " 'experiment_results_filename': 'results/sponsored_random_examples_exp_1/df_sponsored_random_examples_exp_1.csv',\n",
       " 'parameters': {'number_of_captions_given': 3,\n",
       "  'number_of_captions_desiered': 5,\n",
       "  'examples': \"1. <POST> Glowing Skin is ALWAYS in & Banana Bright Primer leaves my skin looking luminous and young all day long 🍌 #GIVEAWAY ✨ One lucky winner AND their bestie will win an entire box of my favorite #olehenriksen ksen products! Here's how to enter:1️⃣ LIKE this post 2️⃣ Follow @olehenriksen and @jadeywadey180 3️⃣ Tag a friend to let them know about this giveaway ⭐️ Each tagged friend counts as an additional entry! You have 48 hours to win... Good luck! #BrightAway @sephora #glowcamp #skincare</POST>\\n2. <POST> The @summerfridays Jet Lag Mask has been a favourite of mine for a few years now. Keeps me glowy and hydrated 🥰#summerfridayspartner</POST>\\n3. <POST> Trying with my new @remediplus blood orange cbd topical 🌸 I’m always accidentally injuring myself or sore from the gym. This all-natural topical is perfect for soothing aches and sores. (And it’s on sale atwww.remedishop.com ;) ) #remedicbd</POST>\\n\"}}"
      ]
     },
     "metadata": {},
     "output_type": "display_data"
    },
    {
     "data": {
      "text/plain": [
       "[\"1. <POST> Glowing Skin is ALWAYS in & Banana Bright Primer leaves my skin looking luminous and young all day long 🍌 #GIVEAWAY ✨ One lucky winner AND their bestie will win an entire box of my favorite #olehenriksen ksen products! Here's how to enter:1️⃣ LIKE this post 2️⃣ Follow @olehenriksen and @jadeywadey180 3️⃣ Tag a friend to let them know about this giveaway ⭐️ Each tagged friend counts as an additional entry! You have 48 hours to win... Good luck! #BrightAway @sephora #glowcamp #skincare</POST>\",\n",
       " '2. <POST> The @summerfridays Jet Lag Mask has been a favourite of mine for a few years now. Keeps me glowy and hydrated 🥰#summerfridayspartner</POST>',\n",
       " '3. <POST> Trying with my new @remediplus blood orange cbd topical 🌸 I’m always accidentally injuring myself or sore from the gym. This all-natural topical is perfect for soothing aches and sores. (And it’s on sale atwww.remedishop.com ;) ) #remedicbd</POST>',\n",
       " '']"
      ]
     },
     "metadata": {},
     "output_type": "display_data"
    }
   ],
   "source": [
    "experiment_identifier = \"sponsored_random_examples_exp_1\"\n",
    "\n",
    "experiment_results, setup_experiment = src.load_results(experiment_identifier)\n",
    "display(experiment_results)\n",
    "display(setup_experiment)\n",
    "display(setup_experiment[\"parameters\"][\"examples\"].split(\"\\n\"))"
   ]
  }
 ],
 "metadata": {
  "kernelspec": {
   "display_name": "base",
   "language": "python",
   "name": "python3"
  },
  "language_info": {
   "codemirror_mode": {
    "name": "ipython",
    "version": 3
   },
   "file_extension": ".py",
   "mimetype": "text/x-python",
   "name": "python",
   "nbconvert_exporter": "python",
   "pygments_lexer": "ipython3",
   "version": "3.10.10"
  },
  "orig_nbformat": 4
 },
 "nbformat": 4,
 "nbformat_minor": 2
}
