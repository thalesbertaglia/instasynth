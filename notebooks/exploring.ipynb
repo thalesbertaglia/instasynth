{
 "cells": [
  {
   "cell_type": "markdown",
   "metadata": {},
   "source": [
    "# Sampling the full df"
   ]
  },
  {
   "cell_type": "code",
   "execution_count": 30,
   "metadata": {},
   "outputs": [
    {
     "ename": "KeyboardInterrupt",
     "evalue": "",
     "output_type": "error",
     "traceback": [
      "\u001b[0;31m---------------------------------------------------------------------------\u001b[0m",
      "\u001b[0;31mKeyboardInterrupt\u001b[0m                         Traceback (most recent call last)",
      "Cell \u001b[0;32mIn[30], line 3\u001b[0m\n\u001b[1;32m      1\u001b[0m \u001b[39mimport\u001b[39;00m \u001b[39mpandas\u001b[39;00m \u001b[39mas\u001b[39;00m \u001b[39mpd\u001b[39;00m\n\u001b[0;32m----> 3\u001b[0m df_full \u001b[39m=\u001b[39m pd\u001b[39m.\u001b[39;49mread_pickle(\u001b[39m\"\u001b[39;49m\u001b[39m../data/full_df_posts.pkl\u001b[39;49m\u001b[39m\"\u001b[39;49m)\n\u001b[1;32m      4\u001b[0m df_full[\u001b[39m\"\u001b[39m\u001b[39mn_tokens\u001b[39m\u001b[39m\"\u001b[39m] \u001b[39m=\u001b[39m df_full[\u001b[39m\"\u001b[39m\u001b[39mcaption\u001b[39m\u001b[39m\"\u001b[39m]\u001b[39m.\u001b[39mapply(\u001b[39mlambda\u001b[39;00m x: \u001b[39mlen\u001b[39m(x\u001b[39m.\u001b[39msplit(\u001b[39m\"\u001b[39m\u001b[39m \u001b[39m\u001b[39m\"\u001b[39m)))\n\u001b[1;32m      5\u001b[0m df_full \u001b[39m=\u001b[39m df_full\u001b[39m.\u001b[39mquery(\u001b[39m\"\u001b[39m\u001b[39mn_tokens > 10\u001b[39m\u001b[39m\"\u001b[39m)\n",
      "File \u001b[0;32m~/src/instasynth/.venv/lib/python3.9/site-packages/pandas/io/pickle.py:196\u001b[0m, in \u001b[0;36mread_pickle\u001b[0;34m(filepath_or_buffer, compression, storage_options)\u001b[0m\n\u001b[1;32m    193\u001b[0m     \u001b[39mwith\u001b[39;00m warnings\u001b[39m.\u001b[39mcatch_warnings(record\u001b[39m=\u001b[39m\u001b[39mTrue\u001b[39;00m):\n\u001b[1;32m    194\u001b[0m         \u001b[39m# We want to silence any warnings about, e.g. moved modules.\u001b[39;00m\n\u001b[1;32m    195\u001b[0m         warnings\u001b[39m.\u001b[39msimplefilter(\u001b[39m\"\u001b[39m\u001b[39mignore\u001b[39m\u001b[39m\"\u001b[39m, \u001b[39mWarning\u001b[39;00m)\n\u001b[0;32m--> 196\u001b[0m         \u001b[39mreturn\u001b[39;00m pickle\u001b[39m.\u001b[39;49mload(handles\u001b[39m.\u001b[39;49mhandle)\n\u001b[1;32m    197\u001b[0m \u001b[39mexcept\u001b[39;00m excs_to_catch:\n\u001b[1;32m    198\u001b[0m     \u001b[39m# e.g.\u001b[39;00m\n\u001b[1;32m    199\u001b[0m     \u001b[39m#  \"No module named 'pandas.core.sparse.series'\"\u001b[39;00m\n\u001b[1;32m    200\u001b[0m     \u001b[39m#  \"Can't get attribute '__nat_unpickle' on <module 'pandas._libs.tslib\"\u001b[39;00m\n\u001b[1;32m    201\u001b[0m     \u001b[39mreturn\u001b[39;00m pc\u001b[39m.\u001b[39mload(handles\u001b[39m.\u001b[39mhandle, encoding\u001b[39m=\u001b[39m\u001b[39mNone\u001b[39;00m)\n",
      "File \u001b[0;32m~/src/instasynth/.venv/lib/python3.9/site-packages/numpy/core/numeric.py:1851\u001b[0m, in \u001b[0;36m_frombuffer\u001b[0;34m(buf, dtype, shape, order)\u001b[0m\n\u001b[1;32m   1845\u001b[0m     \u001b[39mreturn\u001b[39;00m function(\u001b[39m*\u001b[39margs, \u001b[39m*\u001b[39m\u001b[39m*\u001b[39mkwargs)\n\u001b[1;32m   1848\u001b[0m _fromfunction_with_like \u001b[39m=\u001b[39m array_function_dispatch()(fromfunction)\n\u001b[0;32m-> 1851\u001b[0m \u001b[39mdef\u001b[39;00m \u001b[39m_frombuffer\u001b[39m(buf, dtype, shape, order):\n\u001b[1;32m   1852\u001b[0m     \u001b[39mreturn\u001b[39;00m frombuffer(buf, dtype\u001b[39m=\u001b[39mdtype)\u001b[39m.\u001b[39mreshape(shape, order\u001b[39m=\u001b[39morder)\n\u001b[1;32m   1855\u001b[0m \u001b[39m@set_module\u001b[39m(\u001b[39m'\u001b[39m\u001b[39mnumpy\u001b[39m\u001b[39m'\u001b[39m)\n\u001b[1;32m   1856\u001b[0m \u001b[39mdef\u001b[39;00m \u001b[39misscalar\u001b[39m(element):\n",
      "\u001b[0;31mKeyboardInterrupt\u001b[0m: "
     ]
    }
   ],
   "source": [
    "import pandas as pd\n",
    "\n",
    "df_full = pd.read_pickle(\"../data/full_df_posts.pkl\")\n",
    "df_full[\"n_tokens\"] = df_full[\"caption\"].apply(lambda x: len(x.split(\" \")))\n",
    "df_full = df_full.query(\"n_tokens > 10\")\n",
    "\n",
    "df_sample = pd.concat(\n",
    "    [\n",
    "        df_full.query(\"country == 'US' & has_disclosures\").sample(1000),\n",
    "        df_full.query(\"country == 'US' & ~has_disclosures\").sample(1000),\n",
    "    ]\n",
    ").to_pickle(\"../data/df_sample.pkl\")"
   ]
  },
  {
   "cell_type": "markdown",
   "metadata": {},
   "source": [
    "# Data Generation Example"
   ]
  },
  {
   "cell_type": "code",
   "execution_count": 1,
   "metadata": {},
   "outputs": [],
   "source": [
    "import sys\n",
    "\n",
    "sys.path.append(\"..\")"
   ]
  },
  {
   "cell_type": "code",
   "execution_count": 2,
   "metadata": {},
   "outputs": [],
   "source": [
    "from instasynth.config import Config, logger\n",
    "from instasynth import data_generation, utils\n"
   ]
  },
  {
   "cell_type": "code",
   "execution_count": 5,
   "metadata": {},
   "outputs": [],
   "source": [
    "from pathlib import Path\n",
    "\n",
    "Config.PROMPTS_FOLDER = Path(\"../instasynth/prompts\")\n",
    "Config.RESULTS_FOLDER = Path(\"../instasynth/results\")"
   ]
  },
  {
   "cell_type": "code",
   "execution_count": 7,
   "metadata": {},
   "outputs": [
    {
     "data": {
      "text/plain": [
       "<module 'instasynth.utils' from '../instasynth/utils.py'>"
      ]
     },
     "execution_count": 7,
     "metadata": {},
     "output_type": "execute_result"
    }
   ],
   "source": [
    "from importlib import reload\n",
    "reload(data_generation)\n",
    "reload(utils)"
   ]
  },
  {
   "cell_type": "code",
   "execution_count": 3,
   "metadata": {},
   "outputs": [],
   "source": [
    "import os\n",
    "from typing import List\n",
    "\n",
    "import pandas as pd\n",
    "\n",
    "\n",
    "DATA_PATH = \"../data\"\n",
    "SAMPLE_DATASET_SIZE = 1000\n",
    "ORIGINAL_PICKLE_FILENAME = \"df_sample.pkl\"\n",
    "\n",
    "\n",
    "def get_sampled_dataset(\n",
    "    original_pickle_filename: str,\n",
    "    sample_size: int,\n",
    "    fixed_sample: bool = False,\n",
    "    random_state: int = 18,\n",
    "    keep_columns: List[str] = [\"caption\", \"has_disclosures\"],\n",
    "):\n",
    "    dataset_filename = f\"{DATA_PATH}/sample_{sample_size}_{random_state}.csv\"\n",
    "\n",
    "    # Check if the sample dataset already exists\n",
    "    if fixed_sample and os.path.exists(dataset_filename):\n",
    "        logger.info(\"Loading sample dataset...\")\n",
    "        sample_dataset = pd.read_csv(dataset_filename)\n",
    "    else:\n",
    "        logger.info(\"Creating sample dataset...\")\n",
    "        full_df_filename = f\"{DATA_PATH}/{original_pickle_filename}\"\n",
    "        full_df = pd.read_pickle(full_df_filename)\n",
    "\n",
    "        # Split the dataset into sponsored and unsponsored based on the 'has_disclosures' column\n",
    "        sponsored = full_df.query(\"has_disclosures\").sample(\n",
    "            sample_size, random_state=random_state\n",
    "        )\n",
    "        unsponsored = full_df.query(\"~has_disclosures\").sample(\n",
    "            sample_size, random_state=random_state\n",
    "        )\n",
    "\n",
    "        sample_dataset = pd.concat([sponsored, unsponsored])[keep_columns]\n",
    "        sample_dataset.to_csv(dataset_filename, index=False)\n",
    "\n",
    "    return sample_dataset\n",
    "\n",
    "\n",
    "def format_examples(examples: list, delimiter: str = \"####\") -> str:\n",
    "    \"\"\"Format examples for display.\"\"\"\n",
    "    # return [f\"{delimiter}{example}{delimiter}\\n\" for example in examples]\n",
    "    return \"\".join(\n",
    "        [f\"<POST#{index}> {example}\\n\" for index, example in enumerate(examples)]\n",
    "    )\n",
    "\n",
    "\n",
    "def get_caption_examples(number_examples, sponsored=False):\n",
    "    \"\"\"Retrieve a set of caption examples from the dataset.\"\"\"\n",
    "    sample_dataset = get_sampled_dataset(\n",
    "        original_pickle_filename=ORIGINAL_PICKLE_FILENAME,\n",
    "        sample_size=int(SAMPLE_DATASET_SIZE / 2),\n",
    "    )\n",
    "    examples = (\n",
    "        sample_dataset.query(f\"has_disclosures == {sponsored}\")[\"caption\"]\n",
    "        .sample(number_examples)\n",
    "        .tolist()\n",
    "    )\n",
    "    examples = [\n",
    "        example.replace(\"\\n\", \"\").replace('\"', \" \").replace(\"'\", \" \")\n",
    "        for example in examples\n",
    "    ]\n",
    "\n",
    "    return format_examples(examples)"
   ]
  },
  {
   "cell_type": "code",
   "execution_count": 7,
   "metadata": {},
   "outputs": [
    {
     "name": "stdout",
     "output_type": "stream",
     "text": [
      "2023-08-21 12:00:57,871 - INFO - Creating sample dataset...\n",
      "2023-08-21 12:00:57,930 - INFO - Running experiment nonsponsored_random_examples_exp_1 with prompt nonsponsored_random_examples and parameters {'number_of_examples': 5, 'number_of_captions': 15, 'examples': '<EXAMPLES> <POST#0> #BTS of today shoot with @kendalljenner x @ksubi x @dexternavy ⚡️💫✨.👗 @elinsvahn_💇 @hairinel💄 @hungvanngo #KendallJenner\\n<POST#1> Bringing it back to one of our favorite pizza joints out there in this beautiful food-filled world: @modernapizza in New Haven, CT. 🍕💯 #DEVOURPOWER\\n<POST#2> It has been said that courage is the most important of all the virtues because without courage, you can’t practice any other virtue consistently. Tonight, I am showing up & allowing myself to be seen. \\u2063\\u2063Reality tv. Media storms. Podcasts. Family feuds. Divorce. Legal battles. All things that I have navigated over the last few years. I’ve kept quiet for the most part & tried to allow the storms to pass. As I have tried to move forward in my life, I am constantly hit with Google alerts — living in fear, anxious & tired. “Chrisley Knows Sex Tape,” “Chrisley Knows Best: Is Family Drama Brewing?,” “Chrisley Sisters’ Battle Of The Bikinis,” “Chrisley Knows Estrangement.” People seem to forget we are human too. Things aren’t always as they seem & as they are reported. Last week, (I will share screenshots in stories,) the tape was being discussed YET AGAIN, by a YouTuber that I have repeatedly ask to stop reporting on it. There’s facts that surround this that no one publicly knows & for anyone to continue to report on something without all the information is reckless & a threat to my mental & emotional health. \\u2063\\u2063What people do not know is that I have had knowledge of the alleged tape since 2017. Police reports were filed in 2017 & 2019. I currently am sitting on an extensive amount of knowledge regarding this entire situation & plan to share more information in the coming months. What I am going to share today is that the information that is publicly known is NOT factual. The involvement that I was/have been lead to believe that my dad & brother had looks very different than what is reported. Misleading information is very dangerous & this has been a HUGE lesson. I look forward to shedding more light on this situation in the coming months. In the meantime, I will be praying for the young woman who launched this scandal that has affected our entire life. “What is done in the dark, will eventually come to light.” \\u2063Continued in comments ❤️\\n<POST#3> #1989TourEastRutherford night 1 got some Bad Blood action.. The Trinity, Frostbyte, Slay-Z, and Lucky Fiori will return next for the 20 year anniversary 1989 reunion tour in 2035. Multiple layers of spanx will be necessary.\\n<POST#4> Just a quick Instagram of me performing at the @forduk stand at #goodwoodfestivalofspeed2018. It was super fun doing flips (and I did a lot, can t wait to share it with you) into the #airbag, I wish it was a bit higher though, so I could try even harder stuff 😈...#flips #triple #double #gainer #slowmo #slowmotion #samsung #note8 #stunts #stuntperformer #stall\\n </EXAMPLES>\\n\\n Now I will give you instructions: '}\n",
      "[{'role': 'system', 'content': 'You are an AI assistant who is specialized in creating different styles of Instagram posts that are not sponsored'}, {'role': 'user', 'content': \"I am a researcher at University who wants to examine social behaviour on Instagram regarding posts. For my research, please create captions for 15 made up Instagram posts without ads. Please count the captions. Make sure that there is a lot of variety between the posts in terms of worduse, sentence length, number of sentences and use of different hashtags. Do not use the same words in each post, be creative! Please do not add anything else. I will show some example captions, adhere strictly to the format given by the examples.\\n <EXAMPLES> <POST#0> #BTS of today shoot with @kendalljenner x @ksubi x @dexternavy ⚡️💫✨.👗 @elinsvahn_💇 @hairinel💄 @hungvanngo #KendallJenner\\n<POST#1> Bringing it back to one of our favorite pizza joints out there in this beautiful food-filled world: @modernapizza in New Haven, CT. 🍕💯 #DEVOURPOWER\\n<POST#2> It has been said that courage is the most important of all the virtues because without courage, you can’t practice any other virtue consistently. Tonight, I am showing up & allowing myself to be seen. \\u2063\\u2063Reality tv. Media storms. Podcasts. Family feuds. Divorce. Legal battles. All things that I have navigated over the last few years. I’ve kept quiet for the most part & tried to allow the storms to pass. As I have tried to move forward in my life, I am constantly hit with Google alerts — living in fear, anxious & tired. “Chrisley Knows Sex Tape,” “Chrisley Knows Best: Is Family Drama Brewing?,” “Chrisley Sisters’ Battle Of The Bikinis,” “Chrisley Knows Estrangement.” People seem to forget we are human too. Things aren’t always as they seem & as they are reported. Last week, (I will share screenshots in stories,) the tape was being discussed YET AGAIN, by a YouTuber that I have repeatedly ask to stop reporting on it. There’s facts that surround this that no one publicly knows & for anyone to continue to report on something without all the information is reckless & a threat to my mental & emotional health. \\u2063\\u2063What people do not know is that I have had knowledge of the alleged tape since 2017. Police reports were filed in 2017 & 2019. I currently am sitting on an extensive amount of knowledge regarding this entire situation & plan to share more information in the coming months. What I am going to share today is that the information that is publicly known is NOT factual. The involvement that I was/have been lead to believe that my dad & brother had looks very different than what is reported. Misleading information is very dangerous & this has been a HUGE lesson. I look forward to shedding more light on this situation in the coming months. In the meantime, I will be praying for the young woman who launched this scandal that has affected our entire life. “What is done in the dark, will eventually come to light.” \\u2063Continued in comments ❤️\\n<POST#3> #1989TourEastRutherford night 1 got some Bad Blood action.. The Trinity, Frostbyte, Slay-Z, and Lucky Fiori will return next for the 20 year anniversary 1989 reunion tour in 2035. Multiple layers of spanx will be necessary.\\n<POST#4> Just a quick Instagram of me performing at the @forduk stand at #goodwoodfestivalofspeed2018. It was super fun doing flips (and I did a lot, can t wait to share it with you) into the #airbag, I wish it was a bit higher though, so I could try even harder stuff 😈...#flips #triple #double #gainer #slowmo #slowmotion #samsung #note8 #stunts #stuntperformer #stall\\n </EXAMPLES>\\n\\n Now I will give you instructions:  \\n Inspired by these examples, write 15 post captions without ads. Don't output anything after the captions.\"}]\n",
      "2023-08-21 12:00:57,959 - INFO - Sending messages to OpenAI API...\n",
      "2023-08-21 12:01:13,640 - INFO - Received response from OpenAI API!\n",
      "2023-08-21 12:01:13,641 - INFO - Processing response...\n",
      "2023-08-21 12:01:13,643 - INFO - Storing results...\n",
      "2023-08-21 12:01:13,649 - INFO - Experiment complete!\n"
     ]
    }
   ],
   "source": [
    "experiment_identifier = \"nonsponsored_random_examples_exp_1\"\n",
    "prompt_name = \"nonsponsored_random_examples\"\n",
    "\n",
    "number_of_examples = 5\n",
    "number_of_captions = 15\n",
    "examples = get_caption_examples(number_examples=number_of_examples, sponsored=False)\n",
    "\n",
    "parameters = {\n",
    "    \"number_of_examples\": number_of_examples,\n",
    "    \"number_of_captions\": number_of_captions,\n",
    "    \"examples\": f\"<EXAMPLES> {examples} </EXAMPLES>\\n\\n Now I will give you instructions: \",\n",
    "}\n",
    "\n",
    "# chatgpt_parameters = {\"functions\": functions, \"function_call\": function_call}\n",
    "\n",
    "experiment_output = data_generation.create_experiment(\n",
    "    experiment_identifier,\n",
    "    prompt_name,\n",
    "    parameters,\n",
    ")"
   ]
  },
  {
   "cell_type": "code",
   "execution_count": null,
   "metadata": {},
   "outputs": [],
   "source": []
  }
 ],
 "metadata": {
  "kernelspec": {
   "display_name": ".venv",
   "language": "python",
   "name": "python3"
  },
  "language_info": {
   "codemirror_mode": {
    "name": "ipython",
    "version": 3
   },
   "file_extension": ".py",
   "mimetype": "text/x-python",
   "name": "python",
   "nbconvert_exporter": "python",
   "pygments_lexer": "ipython3",
   "version": "3.9.0"
  },
  "orig_nbformat": 4
 },
 "nbformat": 4,
 "nbformat_minor": 2
}
